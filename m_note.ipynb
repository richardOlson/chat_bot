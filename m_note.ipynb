{
 "metadata": {
  "language_info": {
   "codemirror_mode": {
    "name": "ipython",
    "version": 3
   },
   "file_extension": ".py",
   "mimetype": "text/x-python",
   "name": "python",
   "nbconvert_exporter": "python",
   "pygments_lexer": "ipython3",
   "version": "3.8.6"
  },
  "orig_nbformat": 2,
  "kernelspec": {
   "name": "tensorflow_env",
   "display_name": "Python 3.8.6 64-bit"
  }
 },
 "nbformat": 4,
 "nbformat_minor": 2,
 "cells": [
  {
   "cell_type": "code",
   "execution_count": 3,
   "metadata": {},
   "outputs": [],
   "source": [
    "import pandas as pd\n",
    "import os\n",
    "from pathlib import Path"
   ]
  },
  {
   "cell_type": "code",
   "execution_count": 4,
   "metadata": {},
   "outputs": [],
   "source": [
    "# getting the new path for the dataframe\n",
    "thePath = os.path.join(str(Path.home()), \"Downloads\", \"yoda/yoda-corpus.csv\")\n",
    "df = pd.read_csv(thePath)\n"
   ]
  },
  {
   "cell_type": "code",
   "execution_count": 5,
   "metadata": {},
   "outputs": [
    {
     "output_type": "execute_result",
     "data": {
      "text/plain": [
       "   movie  scene  line   character  \\\n",
       "0      1    129  1158    narrator   \n",
       "1      1    129  1159     QUI-GON   \n",
       "2      1    129  1160  MACE WINDU   \n",
       "3      1    129  1161      KI-ADI   \n",
       "4      1    129  1162        YODA   \n",
       "\n",
       "                                                text  \\\n",
       "0  QUI-GON stands in a tall stately room. Twelve ...   \n",
       "1  ...my only conclusion can be that it was a Sit...   \n",
       "2                                     A Sith Lord?!?   \n",
       "3  Impossible! The Sith have been extinct for a m...   \n",
       "4  The very Republic is threatened, if involved t...   \n",
       "\n",
       "                                               slug  component  \n",
       "0  INT. TEMPLE OF THE JEDI - COUNCIL CHAMBERS - DAY     action  \n",
       "1  INT. TEMPLE OF THE JEDI - COUNCIL CHAMBERS - DAY  character  \n",
       "2  INT. TEMPLE OF THE JEDI - COUNCIL CHAMBERS - DAY  character  \n",
       "3  INT. TEMPLE OF THE JEDI - COUNCIL CHAMBERS - DAY  character  \n",
       "4  INT. TEMPLE OF THE JEDI - COUNCIL CHAMBERS - DAY  character  "
      ],
      "text/html": "<div>\n<style scoped>\n    .dataframe tbody tr th:only-of-type {\n        vertical-align: middle;\n    }\n\n    .dataframe tbody tr th {\n        vertical-align: top;\n    }\n\n    .dataframe thead th {\n        text-align: right;\n    }\n</style>\n<table border=\"1\" class=\"dataframe\">\n  <thead>\n    <tr style=\"text-align: right;\">\n      <th></th>\n      <th>movie</th>\n      <th>scene</th>\n      <th>line</th>\n      <th>character</th>\n      <th>text</th>\n      <th>slug</th>\n      <th>component</th>\n    </tr>\n  </thead>\n  <tbody>\n    <tr>\n      <th>0</th>\n      <td>1</td>\n      <td>129</td>\n      <td>1158</td>\n      <td>narrator</td>\n      <td>QUI-GON stands in a tall stately room. Twelve ...</td>\n      <td>INT. TEMPLE OF THE JEDI - COUNCIL CHAMBERS - DAY</td>\n      <td>action</td>\n    </tr>\n    <tr>\n      <th>1</th>\n      <td>1</td>\n      <td>129</td>\n      <td>1159</td>\n      <td>QUI-GON</td>\n      <td>...my only conclusion can be that it was a Sit...</td>\n      <td>INT. TEMPLE OF THE JEDI - COUNCIL CHAMBERS - DAY</td>\n      <td>character</td>\n    </tr>\n    <tr>\n      <th>2</th>\n      <td>1</td>\n      <td>129</td>\n      <td>1160</td>\n      <td>MACE WINDU</td>\n      <td>A Sith Lord?!?</td>\n      <td>INT. TEMPLE OF THE JEDI - COUNCIL CHAMBERS - DAY</td>\n      <td>character</td>\n    </tr>\n    <tr>\n      <th>3</th>\n      <td>1</td>\n      <td>129</td>\n      <td>1161</td>\n      <td>KI-ADI</td>\n      <td>Impossible! The Sith have been extinct for a m...</td>\n      <td>INT. TEMPLE OF THE JEDI - COUNCIL CHAMBERS - DAY</td>\n      <td>character</td>\n    </tr>\n    <tr>\n      <th>4</th>\n      <td>1</td>\n      <td>129</td>\n      <td>1162</td>\n      <td>YODA</td>\n      <td>The very Republic is threatened, if involved t...</td>\n      <td>INT. TEMPLE OF THE JEDI - COUNCIL CHAMBERS - DAY</td>\n      <td>character</td>\n    </tr>\n  </tbody>\n</table>\n</div>"
     },
     "metadata": {},
     "execution_count": 5
    }
   ],
   "source": [
    "df.head(5)"
   ]
  },
  {
   "cell_type": "code",
   "execution_count": 6,
   "metadata": {},
   "outputs": [],
   "source": [
    "# making the new df\n",
    "def make_new_df(df):\n",
    "    df = df.copy()\n",
    "    # now will run through the df and will pull out the text of the last 7 in context\n",
    "    rows = []\n",
    "    n = 7\n",
    "    for i in range(n, len(df.index)):\n",
    "        row = []\n",
    "        prev = i -n -1\n",
    "        for j in range(i, prev, -1):\n",
    "            row.append(df[\"text\"][j])\n",
    "        rows.append(row)\n",
    "    # making the columns that we will use \n",
    "    columns = [\"saying\", \"responce\"]\n",
    "\n",
    "    # making the full columns -- using 5 of the columns\n",
    "    columns = columns + [\"context/\" + str(i) for i in range(n-1)]\n",
    "\n",
    "    # now will make the dataframe\n",
    "    new_df = pd.DataFrame(rows, columns=columns)\n",
    "\n",
    "    return new_df"
   ]
  },
  {
   "cell_type": "code",
   "execution_count": 8,
   "metadata": {},
   "outputs": [
    {
     "output_type": "stream",
     "name": "stdout",
     "text": [
      "364\n"
     ]
    },
    {
     "output_type": "execute_result",
     "data": {
      "text/plain": [
       "                                              saying  \\\n",
       "0              I sense he will reveal himself again.   \n",
       "1  This attack was with purpose, that is clear, a...   \n",
       "2  With this Naboo queen you must stay, Qui-Gon. ...   \n",
       "3  We will use all our resources here to unravel ...   \n",
       "4                         May the Force be with you.   \n",
       "\n",
       "                                            responce  \\\n",
       "0  Hard to see, the dark side is. Discover who th...   \n",
       "1              I sense he will reveal himself again.   \n",
       "2  This attack was with purpose, that is clear, a...   \n",
       "3  With this Naboo queen you must stay, Qui-Gon. ...   \n",
       "4  We will use all our resources here to unravel ...   \n",
       "\n",
       "                                           context/0  \\\n",
       "0  I do not believe they could have returned with...   \n",
       "1  Hard to see, the dark side is. Discover who th...   \n",
       "2              I sense he will reveal himself again.   \n",
       "3  This attack was with purpose, that is clear, a...   \n",
       "4  With this Naboo queen you must stay, Qui-Gon. ...   \n",
       "\n",
       "                                           context/1  \\\n",
       "0  The very Republic is threatened, if involved t...   \n",
       "1  I do not believe they could have returned with...   \n",
       "2  Hard to see, the dark side is. Discover who th...   \n",
       "3              I sense he will reveal himself again.   \n",
       "4  This attack was with purpose, that is clear, a...   \n",
       "\n",
       "                                           context/2  \\\n",
       "0  Impossible! The Sith have been extinct for a m...   \n",
       "1  The very Republic is threatened, if involved t...   \n",
       "2  I do not believe they could have returned with...   \n",
       "3  Hard to see, the dark side is. Discover who th...   \n",
       "4              I sense he will reveal himself again.   \n",
       "\n",
       "                                           context/3  \\\n",
       "0                                     A Sith Lord?!?   \n",
       "1  Impossible! The Sith have been extinct for a m...   \n",
       "2  The very Republic is threatened, if involved t...   \n",
       "3  I do not believe they could have returned with...   \n",
       "4  Hard to see, the dark side is. Discover who th...   \n",
       "\n",
       "                                           context/4  \\\n",
       "0  ...my only conclusion can be that it was a Sit...   \n",
       "1                                     A Sith Lord?!?   \n",
       "2  Impossible! The Sith have been extinct for a m...   \n",
       "3  The very Republic is threatened, if involved t...   \n",
       "4  I do not believe they could have returned with...   \n",
       "\n",
       "                                           context/5  \n",
       "0  QUI-GON stands in a tall stately room. Twelve ...  \n",
       "1  ...my only conclusion can be that it was a Sit...  \n",
       "2                                     A Sith Lord?!?  \n",
       "3  Impossible! The Sith have been extinct for a m...  \n",
       "4  The very Republic is threatened, if involved t...  "
      ],
      "text/html": "<div>\n<style scoped>\n    .dataframe tbody tr th:only-of-type {\n        vertical-align: middle;\n    }\n\n    .dataframe tbody tr th {\n        vertical-align: top;\n    }\n\n    .dataframe thead th {\n        text-align: right;\n    }\n</style>\n<table border=\"1\" class=\"dataframe\">\n  <thead>\n    <tr style=\"text-align: right;\">\n      <th></th>\n      <th>saying</th>\n      <th>responce</th>\n      <th>context/0</th>\n      <th>context/1</th>\n      <th>context/2</th>\n      <th>context/3</th>\n      <th>context/4</th>\n      <th>context/5</th>\n    </tr>\n  </thead>\n  <tbody>\n    <tr>\n      <th>0</th>\n      <td>I sense he will reveal himself again.</td>\n      <td>Hard to see, the dark side is. Discover who th...</td>\n      <td>I do not believe they could have returned with...</td>\n      <td>The very Republic is threatened, if involved t...</td>\n      <td>Impossible! The Sith have been extinct for a m...</td>\n      <td>A Sith Lord?!?</td>\n      <td>...my only conclusion can be that it was a Sit...</td>\n      <td>QUI-GON stands in a tall stately room. Twelve ...</td>\n    </tr>\n    <tr>\n      <th>1</th>\n      <td>This attack was with purpose, that is clear, a...</td>\n      <td>I sense he will reveal himself again.</td>\n      <td>Hard to see, the dark side is. Discover who th...</td>\n      <td>I do not believe they could have returned with...</td>\n      <td>The very Republic is threatened, if involved t...</td>\n      <td>Impossible! The Sith have been extinct for a m...</td>\n      <td>A Sith Lord?!?</td>\n      <td>...my only conclusion can be that it was a Sit...</td>\n    </tr>\n    <tr>\n      <th>2</th>\n      <td>With this Naboo queen you must stay, Qui-Gon. ...</td>\n      <td>This attack was with purpose, that is clear, a...</td>\n      <td>I sense he will reveal himself again.</td>\n      <td>Hard to see, the dark side is. Discover who th...</td>\n      <td>I do not believe they could have returned with...</td>\n      <td>The very Republic is threatened, if involved t...</td>\n      <td>Impossible! The Sith have been extinct for a m...</td>\n      <td>A Sith Lord?!?</td>\n    </tr>\n    <tr>\n      <th>3</th>\n      <td>We will use all our resources here to unravel ...</td>\n      <td>With this Naboo queen you must stay, Qui-Gon. ...</td>\n      <td>This attack was with purpose, that is clear, a...</td>\n      <td>I sense he will reveal himself again.</td>\n      <td>Hard to see, the dark side is. Discover who th...</td>\n      <td>I do not believe they could have returned with...</td>\n      <td>The very Republic is threatened, if involved t...</td>\n      <td>Impossible! The Sith have been extinct for a m...</td>\n    </tr>\n    <tr>\n      <th>4</th>\n      <td>May the Force be with you.</td>\n      <td>We will use all our resources here to unravel ...</td>\n      <td>With this Naboo queen you must stay, Qui-Gon. ...</td>\n      <td>This attack was with purpose, that is clear, a...</td>\n      <td>I sense he will reveal himself again.</td>\n      <td>Hard to see, the dark side is. Discover who th...</td>\n      <td>I do not believe they could have returned with...</td>\n      <td>The very Republic is threatened, if involved t...</td>\n    </tr>\n  </tbody>\n</table>\n</div>"
     },
     "metadata": {},
     "execution_count": 8
    }
   ],
   "source": [
    "# using the above method and then will look at the df\n",
    "new_df = make_new_df(df)\n",
    "print(len(new_df.index))\n",
    "new_df.head(5)"
   ]
  },
  {
   "cell_type": "code",
   "execution_count": null,
   "metadata": {},
   "outputs": [],
   "source": []
  }
 ]
}